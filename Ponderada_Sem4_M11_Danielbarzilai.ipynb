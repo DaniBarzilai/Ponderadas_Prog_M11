{
  "nbformat": 4,
  "nbformat_minor": 0,
  "metadata": {
    "colab": {
      "provenance": []
    },
    "kernelspec": {
      "name": "python3",
      "display_name": "Python 3"
    },
    "language_info": {
      "name": "python"
    }
  },
  "cells": [
    {
      "cell_type": "markdown",
      "source": [
        "Importação das bibliotecas necessarias"
      ],
      "metadata": {
        "id": "nWcAoD1udaH5"
      }
    },
    {
      "cell_type": "code",
      "execution_count": 5,
      "metadata": {
        "id": "qAHlTX-VMqCP"
      },
      "outputs": [],
      "source": [
        "import pandas as pd\n",
        "from sklearn.model_selection import train_test_split\n",
        "from sklearn.preprocessing import StandardScaler\n",
        "from sklearn.neural_network import MLPClassifier\n",
        "from sklearn.metrics import accuracy_score, recall_score, f1_score, roc_auc_score, classification_report"
      ]
    },
    {
      "cell_type": "markdown",
      "source": [
        "Carregamento do Dataset"
      ],
      "metadata": {
        "id": "6wWz6WnOd6WA"
      }
    },
    {
      "cell_type": "code",
      "source": [
        "data = pd.read_csv('/content/creditcard.csv')"
      ],
      "metadata": {
        "collapsed": true,
        "id": "01MOXt7hclpu"
      },
      "execution_count": 6,
      "outputs": []
    },
    {
      "cell_type": "markdown",
      "source": [
        "Pré-processamento dos dados"
      ],
      "metadata": {
        "id": "S8cJwsaFd8u_"
      }
    },
    {
      "cell_type": "code",
      "source": [
        "X = data.drop('Class', axis=1)\n",
        "y = data['Class']\n",
        "\n",
        "#divisão de dados de treinamento e teste\n",
        "X_train, X_test, y_train, y_test = train_test_split(X, y, test_size=0.2, random_state=42)\n",
        "\n",
        "#normalização com StandardScaler\n",
        "scaler = StandardScaler()\n",
        "X_train = scaler.fit_transform(X_train)\n",
        "X_test = scaler.transform(X_test)"
      ],
      "metadata": {
        "id": "Y3ujMQHid3fA"
      },
      "execution_count": 7,
      "outputs": []
    },
    {
      "cell_type": "markdown",
      "source": [
        "Treinamento do modelo"
      ],
      "metadata": {
        "id": "xY8o1Shydmf3"
      }
    },
    {
      "cell_type": "code",
      "source": [
        "modelo = MLPClassifier(random_state=42)\n",
        "modelo.fit(X_train, y_train)"
      ],
      "metadata": {
        "collapsed": true,
        "id": "yRklqyAkeLoo"
      },
      "execution_count": null,
      "outputs": []
    },
    {
      "cell_type": "markdown",
      "source": [
        "Score do modelo"
      ],
      "metadata": {
        "id": "mYvfESfleoaz"
      }
    },
    {
      "cell_type": "code",
      "source": [
        "y_pred = modelo.predict(X_test)\n",
        "\n",
        "acuracia = accuracy_score(y_test, y_pred)\n",
        "recall = recall_score(y_test, y_pred)\n",
        "f1 = f1_score(y_test, y_pred)\n",
        "auc_roc = roc_auc_score(y_test, modelo.predict_proba(X_test)[:, 1])\n",
        "\n",
        "print(f'Acurácia: {acuracia}')\n",
        "print(f'Recall: {recall}')\n",
        "print(f'F1-score: {f1}')\n",
        "print(f'AUC-ROC: {auc_roc}')"
      ],
      "metadata": {
        "id": "4zzYEIMVeZB3"
      },
      "execution_count": null,
      "outputs": []
    },
    {
      "cell_type": "markdown",
      "source": [
        "Relatório de classificação do modelo"
      ],
      "metadata": {
        "id": "FUFsFYUbej4d"
      }
    },
    {
      "cell_type": "code",
      "source": [
        "print(classification_report(y_test, y_pred))"
      ],
      "metadata": {
        "id": "g8Gke-XNefzE"
      },
      "execution_count": null,
      "outputs": []
    },
    {
      "cell_type": "markdown",
      "source": [
        "Definição de uma faixa de valores para os hiperparâmetros a serem otimizados"
      ],
      "metadata": {
        "id": "ioLnCIOle5Jd"
      }
    },
    {
      "cell_type": "code",
      "source": [
        "from sklearn.model_selection import GridSearchCV, RandomizedSearchCV\n",
        "\n",
        "# Definindo a faixa de valores para os hiperparâmetros\n",
        "parametros = {\n",
        "    'hidden_layer_sizes': [(50,), (100,), (50,50)],\n",
        "    'activation': ['tanh', 'relu'],\n",
        "    'solver': ['sgd', 'adam'],\n",
        "    'alpha': [0.0001, 0.001, 0.01],\n",
        "    'learning_rate': ['constant', 'adaptive'],\n",
        "}"
      ],
      "metadata": {
        "id": "qRdIWi7Qe2N9"
      },
      "execution_count": null,
      "outputs": []
    },
    {
      "cell_type": "markdown",
      "source": [
        "Aplicação dos modelos de Grid Search e do Random Search"
      ],
      "metadata": {
        "id": "C26J1e9NfHh6"
      }
    },
    {
      "cell_type": "code",
      "source": [
        "#Aplicação do modelo de Grid Search\n",
        "grid_search = GridSearchCV(estimator=MLPClassifier(random_state=42),\n",
        "                           param_grid=parametros,\n",
        "                           scoring='f1',\n",
        "                           cv=3,\n",
        "                           n_jobs=-1)\n",
        "\n",
        "grid_search.fit(X_train, y_train)\n",
        "\n",
        "print(\"Melhores parâmetros do Grid Search:\")\n",
        "print(grid_search.best_params_)\n",
        "print(\"Melhor F1-score do Grid Search:\")\n",
        "print(grid_search.best_score_)"
      ],
      "metadata": {
        "collapsed": true,
        "id": "s1pDE_yBfEIJ"
      },
      "execution_count": null,
      "outputs": []
    },
    {
      "cell_type": "code",
      "source": [
        "#Aplicação do modelo de Random Search\n",
        "random_search = RandomizedSearchCV(estimator=MLPClassifier(random_state=42),\n",
        "                                   param_distributions=parametros,\n",
        "                                   n_iter=10,  # número de combinações aleatórias\n",
        "                                   scoring='f1',\n",
        "                                   cv=3,\n",
        "                                   n_jobs=-1,\n",
        "                                   random_state=42)\n",
        "\n",
        "random_search.fit(X_train, y_train)\n",
        "\n",
        "print(\"Melhores parâmetros do Random Search:\")\n",
        "print(random_search.best_params_)\n",
        "print(\"Melhor F1-score do Random Search:\")\n",
        "print(random_search.best_score_)"
      ],
      "metadata": {
        "id": "L4KEV5ZdfUlP"
      },
      "execution_count": null,
      "outputs": []
    },
    {
      "cell_type": "markdown",
      "source": [
        "Score do modelo otimizado, apos encontrar os melhores hiperparâmetros"
      ],
      "metadata": {
        "id": "BJhfgS7-hUs9"
      }
    },
    {
      "cell_type": "code",
      "source": [
        "melhor_modelo = grid_search.best_estimator_  # random_search.best_estimator_\n",
        "y_pred_otimizado = melhor_modelo.predict(X_test)\n",
        "\n",
        "acuracia_otimizada = accuracy_score(y_test, y_pred_otimizado)\n",
        "recall_otimizado = recall_score(y_test, y_pred_otimizado)\n",
        "f1_otimizado = f1_score(y_test, y_pred_otimizado)\n",
        "auc_roc_otimizado = roc_auc_score(y_test, melhor_modelo.predict_proba(X_test)[:, 1])\n",
        "\n",
        "#Resultado do Modelo otimizado\n",
        "print(f'Acurácia Otimizada: {acuracia_otimizada}')\n",
        "print(f'Recall Otimizado: {recall_otimizado}')\n",
        "print(f'F1-score Otimizado: {f1_otimizado}')\n",
        "print(f'AUC-ROC Otimizado: {auc_roc_otimizado}')"
      ],
      "metadata": {
        "id": "zxix_2rEhTth"
      },
      "execution_count": null,
      "outputs": []
    },
    {
      "cell_type": "markdown",
      "source": [
        "Comparação dos resutados obtidos com o modelo original"
      ],
      "metadata": {
        "id": "HB9vaCxRhxQY"
      }
    },
    {
      "cell_type": "code",
      "source": [
        "# Resultados do modelo original\n",
        "print(\"Resultados do Modelo Original:\")\n",
        "print(f\"Acurácia: {acuracia}\")\n",
        "print(f\"Recall: {recall}\")\n",
        "print(f\"F1-score: {f1}\")\n",
        "print(f\"AUC-ROC: {auc_roc}\")\n",
        "\n",
        "# Resultados do modelo otimizado\n",
        "print(\"\\nResultados do Modelo Otimizado:\")\n",
        "print(f\"Acurácia Otimizada: {acuracia_otimizada}\")\n",
        "print(f\"Recall Otimizado: {recall_otimizado}\")\n",
        "print(f\"F1-score Otimizado: {f1_otimizado}\")\n",
        "print(f\"AUC-ROC Otimizado: {auc_roc_otimizado}\")"
      ],
      "metadata": {
        "id": "oTW0CqGDhyOv"
      },
      "execution_count": null,
      "outputs": []
    },
    {
      "cell_type": "markdown",
      "source": [
        "# **Análise do Impacto dos Hiperparâmetros**\n",
        "\n",
        "###Modelo Original:\n",
        "\n",
        "*   Acurácia: 99.95%\n",
        "*   Recall: 82.65%\n",
        "*   F1-score: 85.26%\n",
        "*   AUC-ROC: 97.42%\n",
        "\n",
        "\n",
        "### Modelo Otimizado:\n",
        "\n",
        "*   Acurácia Otimizada: 99.95%\n",
        "*   Recall Otimizado: 76.53%\n",
        "*   F1-score Otimizado: 85.23%\n",
        "*   AUC-ROC Otimizado: 98.13%\n",
        "\n",
        "### Modelo Otimizado com Grid Search\n",
        "**Melhores Parâmetros:**\n",
        "\n",
        "activation: 'tanh'\n",
        "\n",
        "# *   alpha: 0.0001\n",
        "*   hidden_layer_sizes: (50,)\n",
        "*   learning_rate: 'constant'\n",
        "*   solver: 'adam'\n",
        "\n",
        "F1-score do Grid Search: 84.34%\n",
        "\n",
        "### Modelo Otimizado com Random Search\n",
        "**Melhores Parâmetros:**\n",
        "\n",
        "activation: 'tanh'\n",
        "\n",
        "*   solver: 'sgd'\n",
        "*   learning_rate: 'constant'\n",
        "*   hidden_layer_sizes: (100,)\n",
        "*   alpha: 0.01\n",
        "*   activation: 'tanh'\n",
        "\n",
        "F1-score do Random Search: 82.54%\n",
        "\n",
        "\n",
        "\n",
        "---\n",
        "\n",
        "### Impacto nas Métricas\n",
        " - **Acurácia**: Houve uma ligeira melhora, quase que impercéptivel, entretanto a taxa já era alta inicialmente.\n",
        " - **Recall**: Houve uma queda significativa, indicando uma menor detecção de fraudes.\n",
        " - **F1-score**: Permaneceu praticamente estável, mostrando equilíbrio entre precisão e recall.\n",
        " - **AUC-ROC**: Melhorou parcialmente, indicando uma melhor capacidade de discriminação entre classes."
      ],
      "metadata": {
        "id": "QgfJOAL-k0sk"
      }
    },
    {
      "cell_type": "markdown",
      "source": [
        "#**Observações**\n",
        "**Melhorias**: O AUC-ROC melhorou, mas o recall diminuiu, o que pode ser problemático para detecção de fraudes.\n",
        "\n",
        "**Desempenho Geral:** A manutenção do F1-score indica equilíbrio, mas o recall reduzido sugere que o modelo pode estar menos sensível a fraudes.\n",
        "\n",
        "**Limitações e Próximos Passos:** Considerar\n",
        "balanceamento de classes ou ajustes adicionais nos hiperparâmetros para melhorar o recall."
      ],
      "metadata": {
        "id": "5g7iQ8OY6gwJ"
      }
    }
  ]
}